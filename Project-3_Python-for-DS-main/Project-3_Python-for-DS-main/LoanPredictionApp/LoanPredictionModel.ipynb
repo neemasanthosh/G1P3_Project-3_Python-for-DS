{
 "cells": [
  {
   "cell_type": "markdown",
   "id": "9ba8d477-a367-4a21-ad0f-9954e91ff10b",
   "metadata": {},
   "source": [
    "# Loan Prediction Model\n",
    "## To build a loan prediction model using Random Forest, apply class imbalance handling, perform hyperparameter tuning, and save the trained model for use in a Flask application."
   ]
  },
  {
   "cell_type": "markdown",
   "id": "024f7ea8-176d-49d3-91f7-c85b7187b441",
   "metadata": {},
   "source": [
    "## Step 1: Import Required Libraries and Read the Dataset"
   ]
  },
  {
   "cell_type": "code",
   "execution_count": 1,
   "id": "9787fe97-e1e3-4bfe-ac98-18b2d5d0b295",
   "metadata": {},
   "outputs": [
    {
     "name": "stdout",
     "output_type": "stream",
     "text": [
      "    loan_id gender married dependents     education self_employed  \\\n",
      "0  lp001002   male      no          0      graduate            no   \n",
      "1  lp001003   male     yes          1      graduate            no   \n",
      "2  lp001005   male     yes          0      graduate           yes   \n",
      "3  lp001006   male     yes          0  not graduate            no   \n",
      "4  lp001008   male      no          0      graduate            no   \n",
      "\n",
      "   applicantincome  coapplicantincome  loanamount  loan_amount_term  \\\n",
      "0             5849                0.0         NaN             360.0   \n",
      "1             4583             1508.0       128.0             360.0   \n",
      "2             3000                0.0        66.0             360.0   \n",
      "3             2583             2358.0       120.0             360.0   \n",
      "4             6000                0.0       141.0             360.0   \n",
      "\n",
      "   credit_history property_area loan_status  \n",
      "0             1.0         urban           y  \n",
      "1             1.0         rural           n  \n",
      "2             1.0         urban           y  \n",
      "3             1.0         urban           y  \n",
      "4             1.0         urban           y  \n"
     ]
    }
   ],
   "source": [
    "# Import necessary libraries\n",
    "import pandas as pd\n",
    "import numpy as np\n",
    "import matplotlib.pyplot as plt\n",
    "import seaborn as sns\n",
    "from sklearn.model_selection import train_test_split\n",
    "from sklearn.preprocessing import LabelEncoder\n",
    "from sklearn.ensemble import RandomForestClassifier\n",
    "from sklearn.metrics import classification_report, confusion_matrix, accuracy_score\n",
    "from sklearn.model_selection import GridSearchCV\n",
    "from imblearn.over_sampling import SMOTE\n",
    "import joblib\n",
    "import pickle\n",
    "\n",
    "# Read the dataset\n",
    "data = pd.read_csv(\"loan_approval_data.csv\")\n",
    "\n",
    "# Display the first few rows of the dataset\n",
    "print(data.head())"
   ]
  },
  {
   "cell_type": "markdown",
   "id": "08c5b2ce-1787-4b08-967f-476bfe72f564",
   "metadata": {},
   "source": [
    "## Step 2: Check the Shape, Info, and Initial Exploration of the Data"
   ]
  },
  {
   "cell_type": "code",
   "execution_count": 2,
   "id": "45842a86-4c84-4c7f-a3ab-a6db66413605",
   "metadata": {},
   "outputs": [
    {
     "name": "stdout",
     "output_type": "stream",
     "text": [
      "Dataset Shape: (614, 13)\n",
      "<class 'pandas.core.frame.DataFrame'>\n",
      "RangeIndex: 614 entries, 0 to 613\n",
      "Data columns (total 13 columns):\n",
      " #   Column             Non-Null Count  Dtype  \n",
      "---  ------             --------------  -----  \n",
      " 0   loan_id            614 non-null    object \n",
      " 1   gender             601 non-null    object \n",
      " 2   married            611 non-null    object \n",
      " 3   dependents         599 non-null    object \n",
      " 4   education          614 non-null    object \n",
      " 5   self_employed      582 non-null    object \n",
      " 6   applicantincome    614 non-null    int64  \n",
      " 7   coapplicantincome  614 non-null    float64\n",
      " 8   loanamount         592 non-null    float64\n",
      " 9   loan_amount_term   600 non-null    float64\n",
      " 10  credit_history     564 non-null    float64\n",
      " 11  property_area      614 non-null    object \n",
      " 12  loan_status        614 non-null    object \n",
      "dtypes: float64(4), int64(1), object(8)\n",
      "memory usage: 62.5+ KB\n",
      "None\n",
      "       applicantincome  coapplicantincome  loanamount  loan_amount_term  \\\n",
      "count       614.000000         614.000000  592.000000         600.00000   \n",
      "mean       5403.459283        1621.245798  146.412162         342.00000   \n",
      "std        6109.041673        2926.248369   85.587325          65.12041   \n",
      "min         150.000000           0.000000    9.000000          12.00000   \n",
      "25%        2877.500000           0.000000  100.000000         360.00000   \n",
      "50%        3812.500000        1188.500000  128.000000         360.00000   \n",
      "75%        5795.000000        2297.250000  168.000000         360.00000   \n",
      "max       81000.000000       41667.000000  700.000000         480.00000   \n",
      "\n",
      "       credit_history  \n",
      "count      564.000000  \n",
      "mean         0.842199  \n",
      "std          0.364878  \n",
      "min          0.000000  \n",
      "25%          1.000000  \n",
      "50%          1.000000  \n",
      "75%          1.000000  \n",
      "max          1.000000  \n"
     ]
    }
   ],
   "source": [
    "# Check the shape of the dataset\n",
    "print(f\"Dataset Shape: {data.shape}\")\n",
    "\n",
    "# Display the summary info of the dataset\n",
    "print(data.info())\n",
    "\n",
    "# Display a summary of the data to understand basic statistics\n",
    "print(data.describe())"
   ]
  },
  {
   "cell_type": "markdown",
   "id": "f89aca0c-c1cf-4664-8f5b-53fd38629fbd",
   "metadata": {},
   "source": [
    "## Step 3: Check for Missing Values and Handle Them"
   ]
  },
  {
   "cell_type": "code",
   "execution_count": 3,
   "id": "4d41a6e9-37ce-4a45-8252-0ec5f6a50ff9",
   "metadata": {},
   "outputs": [
    {
     "name": "stdout",
     "output_type": "stream",
     "text": [
      "Missing Values Before Treatment:\n",
      " loan_id               0\n",
      "gender               13\n",
      "married               3\n",
      "dependents           15\n",
      "education             0\n",
      "self_employed        32\n",
      "applicantincome       0\n",
      "coapplicantincome     0\n",
      "loanamount           22\n",
      "loan_amount_term     14\n",
      "credit_history       50\n",
      "property_area         0\n",
      "loan_status           0\n",
      "dtype: int64\n",
      "Missing Values After Treatment:\n",
      " loan_id              0\n",
      "gender               0\n",
      "married              0\n",
      "dependents           0\n",
      "education            0\n",
      "self_employed        0\n",
      "applicantincome      0\n",
      "coapplicantincome    0\n",
      "loanamount           0\n",
      "loan_amount_term     0\n",
      "credit_history       0\n",
      "property_area        0\n",
      "loan_status          0\n",
      "dtype: int64\n"
     ]
    }
   ],
   "source": [
    "# Check for missing values in the entire dataset\n",
    "print(\"Missing Values Before Treatment:\\n\", data.isnull().sum())\n",
    "\n",
    "# Fill missing values for categorical columns with the mode using `.loc`\n",
    "categorical_cols = ['gender', 'married', 'dependents', 'self_employed', 'loan_amount_term', 'credit_history']\n",
    "for col in categorical_cols:\n",
    "    data.loc[:, col] = data[col].fillna(data[col].mode()[0])\n",
    "\n",
    "# Fill missing values for 'loanamount' with the median using `.loc`\n",
    "data.loc[:, 'loanamount'] = data['loanamount'].fillna(data['loanamount'].median())\n",
    "\n",
    "# Check again for any remaining missing values\n",
    "print(\"Missing Values After Treatment:\\n\", data.isnull().sum())"
   ]
  },
  {
   "cell_type": "code",
   "execution_count": 4,
   "id": "18c42bf7-36ac-4651-ac6a-ca24fd0def44",
   "metadata": {},
   "outputs": [],
   "source": [
    "# Drop redundant columns\n",
    "data.drop(['loan_id'], axis=1, inplace=True)"
   ]
  },
  {
   "cell_type": "markdown",
   "id": "cd77e6b8-f2c1-445e-8227-735b715fa4d8",
   "metadata": {},
   "source": [
    "## Step 4: Visualize the Distribution of the Target Column"
   ]
  },
  {
   "cell_type": "code",
   "execution_count": 5,
   "id": "010f79d2-5141-4c89-a2f6-93112e87e344",
   "metadata": {},
   "outputs": [
    {
     "data": {
      "image/png": "[encoded data removed]",
      "text/plain": [
       "<Figure size 1800x1000 with 6 Axes>"
      ]
     },
     "metadata": {},
     "output_type": "display_data"
    }
   ],
   "source": [
    "# Visualize the distribution of 'loan_status' with respect to categorical features\n",
    "fig, axes = plt.subplots(2, 3, figsize=(18, 10))\n",
    "\n",
    "sns.countplot(x='loan_status', hue='gender', data=data, ax=axes[0, 0])\n",
    "sns.countplot(x='loan_status', hue='married', data=data, ax=axes[0, 1])\n",
    "sns.countplot(x='loan_status', hue='education', data=data, ax=axes[0, 2])\n",
    "sns.countplot(x='loan_status', hue='self_employed', data=data, ax=axes[1, 0])\n",
    "sns.countplot(x='loan_status', hue='property_area', data=data, ax=axes[1, 1])\n",
    "sns.countplot(x='loan_status', hue='dependents', data=data, ax=axes[1, 2])\n",
    "\n",
    "plt.tight_layout()\n",
    "plt.show()"
   ]
  },
  {
   "cell_type": "markdown",
   "id": "55286344-b3a9-4288-89c7-137ffce46791",
   "metadata": {},
   "source": [
    "### Observations on Loan Approval Data:\n",
    "\n",
    "1. **Gender:**\n",
    "   - There is a clear skew in loan approvals based on gender.\n",
    "   - **Males** have a higher approval rate compared to **females**.\n",
    "   - This suggests that male applicants are more likely to get loan approvals.\n",
    "\n",
    "2. **Marital Status:**\n",
    "   - **Married** individuals are more likely to have their loans approved compared to **unmarried** individuals.\n",
    "   - There is a notable gap between the approval rates of married and unmarried applicants, indicating marital status could be a significant factor in loan decisions.\n",
    "\n",
    "3. **Education:**\n",
    "   - **Graduates** have a significantly higher loan approval rate compared to **non-graduates**.\n",
    "   - This suggests that educational qualifications positively influence the likelihood of loan approval.\n",
    "\n",
    "4. **Self-Employment:**\n",
    "   - Self-employed individuals have a lower approval rate compared to those who are not self-employed.\n",
    "   - This could indicate that being employed by an organization might provide greater financial security in the eyes of the lender, leading to higher approval rates.\n",
    "\n",
    "5. **Property Area:**\n",
    "   - Applicants from **urban** and **semiurban** areas have higher loan approval rates compared to those from **rural** areas.\n",
    "   - This might suggest that the perceived economic stability or opportunity in urban and semiurban regions contributes to better chances of securing loans.\n",
    "\n",
    "6. **Dependents:**\n",
    "   - Applicants with **0 dependents** have the highest approval rate, followed by those with **1 dependent**.\n",
    "   - As the number of dependents increases, the approval rate decreases, indicating that applicants with more dependents may be seen as having higher financial obligations, which could reduce their chances of loan approval.\n",
    "\n",
    "### Summary:\n",
    "- The data shows that **male**, **married**, **graduate** applicants from **urban/semiurban** areas, with **0 to 1 dependent**, are more likely to have their loans approved.\n",
    "- The patterns suggest that factors such as gender, marital status, education, employment status, property location, and dependents all play a role in influencing loan approval decisions.\n",
    "  \n",
    "These observations also conveys future adjustments to loan assessment criteria or provide insights into the demographic trends influencing loan approvals."
   ]
  },
  {
   "cell_type": "markdown",
   "id": "e0e58765-5e3b-43ab-a9e3-f506be2c420a",
   "metadata": {},
   "source": [
    "## Step 5: Encode the Categorical Data"
   ]
  },
  {
   "cell_type": "code",
   "execution_count": 6,
   "id": "8136837e-ff74-409e-9ba6-ffad2306d981",
   "metadata": {},
   "outputs": [
    {
     "name": "stdout",
     "output_type": "stream",
     "text": [
      "   gender  married  dependents  education  self_employed  applicantincome  \\\n",
      "0       1        0           0          0              0             5849   \n",
      "1       1        1           1          0              0             4583   \n",
      "2       1        1           0          0              1             3000   \n",
      "3       1        1           0          1              0             2583   \n",
      "4       1        0           0          0              0             6000   \n",
      "\n",
      "   coapplicantincome  loanamount  loan_amount_term  credit_history  \\\n",
      "0                0.0       128.0             360.0             1.0   \n",
      "1             1508.0       128.0             360.0             1.0   \n",
      "2                0.0        66.0             360.0             1.0   \n",
      "3             2358.0       120.0             360.0             1.0   \n",
      "4                0.0       141.0             360.0             1.0   \n",
      "\n",
      "   property_area  loan_status  \n",
      "0              2            1  \n",
      "1              0            0  \n",
      "2              2            1  \n",
      "3              2            1  \n",
      "4              2            1  \n"
     ]
    }
   ],
   "source": [
    "# Encoding categorical variables using LabelEncoder\n",
    "encoder = LabelEncoder()\n",
    "\n",
    "categorical_features = ['gender', 'married', 'dependents', 'education', 'self_employed', 'property_area', 'loan_status']\n",
    "for col in categorical_features:\n",
    "    data[col] = encoder.fit_transform(data[col])\n",
    "\n",
    "print(data.head())"
   ]
  },
  {
   "cell_type": "code",
   "execution_count": 7,
   "id": "b0d67536-0344-4603-822f-00a0f6951ce5",
   "metadata": {},
   "outputs": [
    {
     "name": "stdout",
     "output_type": "stream",
     "text": [
      "Data after encoding:\n",
      "    gender  married  dependents  education  self_employed  applicantincome  \\\n",
      "0       1        0           0          0              0             5849   \n",
      "1       1        1           1          0              0             4583   \n",
      "2       1        1           0          0              1             3000   \n",
      "3       1        1           0          1              0             2583   \n",
      "4       1        0           0          0              0             6000   \n",
      "\n",
      "   coapplicantincome  loanamount  loan_amount_term  credit_history  \\\n",
      "0                0.0       128.0             360.0             1.0   \n",
      "1             1508.0       128.0             360.0             1.0   \n",
      "2                0.0        66.0             360.0             1.0   \n",
      "3             2358.0       120.0             360.0             1.0   \n",
      "4                0.0       141.0             360.0             1.0   \n",
      "\n",
      "   property_area  loan_status  \n",
      "0              2            1  \n",
      "1              0            0  \n",
      "2              2            1  \n",
      "3              2            1  \n",
      "4              2            1  \n"
     ]
    }
   ],
   "source": [
    "# Encode all categorical variables using pd.get_dummies for one-hot encoding\n",
    "encoded_data = pd.get_dummies(data, drop_first=True)\n",
    "\n",
    "print(\"Data after encoding:\\n\", encoded_data.head())"
   ]
  },
  {
   "cell_type": "markdown",
   "id": "79d03ecc-be91-434b-ad01-a2a5f154db09",
   "metadata": {},
   "source": [
    "## Step 6: Separate the Target and Independent Features and Split the Data "
   ]
  },
  {
   "cell_type": "code",
   "execution_count": 8,
   "id": "c45c2175-6840-4263-bc23-bb02f68fb666",
   "metadata": {},
   "outputs": [
    {
     "name": "stdout",
     "output_type": "stream",
     "text": [
      "Training Set Shape: (429, 11)\n",
      "Test Set Shape: (185, 11)\n"
     ]
    }
   ],
   "source": [
    "# Separate independent features and target variable\n",
    "X = encoded_data.drop(columns=['loan_status'])\n",
    "y = encoded_data['loan_status']\n",
    "\n",
    "# Save the column names in the exact order\n",
    "feature_columns = X.columns\n",
    "joblib.dump(feature_columns, 'columns.pkl')\n",
    "\n",
    "# Split into train and test data\n",
    "X_train, X_test, y_train, y_test = train_test_split(X, y, test_size=0.3, random_state=42)\n",
    "\n",
    "print(f\"Training Set Shape: {X_train.shape}\")\n",
    "print(f\"Test Set Shape: {X_test.shape}\")"
   ]
  },
  {
   "cell_type": "markdown",
   "id": "de30c736-867f-4124-a741-95a2d41701a5",
   "metadata": {},
   "source": [
    "## Step 7: Build the model with SMOTE, Handle Class Imbalance, and Perform Hyperparameter Tuning"
   ]
  },
  {
   "cell_type": "code",
   "execution_count": 9,
   "id": "10acecdd-fb2b-4785-9c37-d7f7e1bd31f1",
   "metadata": {},
   "outputs": [
    {
     "name": "stdout",
     "output_type": "stream",
     "text": [
      "Fitting 3 folds for each of 16 candidates, totalling 48 fits\n",
      "Classification Report:\n",
      "               precision    recall  f1-score   support\n",
      "\n",
      "           0       0.80      0.51      0.62        65\n",
      "           1       0.78      0.93      0.85       120\n",
      "\n",
      "    accuracy                           0.78       185\n",
      "   macro avg       0.79      0.72      0.74       185\n",
      "weighted avg       0.79      0.78      0.77       185\n",
      "\n",
      "Confusion Matrix:\n",
      " [[ 33  32]\n",
      " [  8 112]]\n",
      "Accuracy Score: 0.78\n"
     ]
    }
   ],
   "source": [
    "# Handle class imbalance using SMOTE\n",
    "smote = SMOTE(random_state=42)\n",
    "X_train_smote, y_train_smote = smote.fit_resample(X_train, y_train)\n",
    "\n",
    "# Random Forest Classifier with Hyperparameter Tuning\n",
    "rf = RandomForestClassifier(random_state=42)\n",
    "\n",
    "# Set up hyperparameter grid for tuning\n",
    "param_grid = {\n",
    "    'n_estimators': [100, 200],\n",
    "    'max_depth': [10, 20],\n",
    "    'min_samples_split': [2, 5],\n",
    "    'min_samples_leaf': [1, 2]\n",
    "}\n",
    "\n",
    "# Use GridSearchCV for hyperparameter tuning\n",
    "grid_search = GridSearchCV(estimator=rf, param_grid=param_grid, cv=3, n_jobs=-1, verbose=2)\n",
    "grid_search.fit(X_train_smote, y_train_smote)\n",
    "\n",
    "# Get the best model\n",
    "best_rf = grid_search.best_estimator_\n",
    "\n",
    "# Train the Random Forest model\n",
    "best_rf.fit(X_train_smote, y_train_smote)\n",
    "\n",
    "# Make predictions\n",
    "y_pred = best_rf.predict(X_test)\n",
    "\n",
    "# Evaluate the model\n",
    "print(\"Classification Report:\\n\", classification_report(y_test, y_pred))\n",
    "print(\"Confusion Matrix:\\n\", confusion_matrix(y_test, y_pred))\n",
    "print(f\"Accuracy Score: {accuracy_score(y_test, y_pred):.2f}\")"
   ]
  },
  {
   "cell_type": "markdown",
   "id": "4b833d55-c11f-4bb6-9a4a-2fa1d326ae11",
   "metadata": {},
   "source": [
    "An accuracy score of **78%** is a good start, but accuracy alone does not provide the full picture, especially in the case of imbalanced datasets. The below is  break down of the model’s performance based on the classification report and confusion matrix:\n",
    "\n",
    "###  Observations:\n",
    "\n",
    "1. **Precision**:\n",
    "   - **Class 0 (Not Approved)**: 80%\n",
    "   - **Class 1 (Approved)**: 78%\n",
    "\n",
    "   The precision values suggest that when the model predicts a loan will not be approved (Class 0), it is correct **80%** of the time. For loans predicted to be approved (Class 1), the model is correct **78%** of the time. However, the relatively close precision scores indicate that the model is prone to misclassifying loans as approved when they are not, and vice versa.\n",
    "\n",
    "2. **Recall**:\n",
    "   - **Class 0**: 51%\n",
    "   - **Class 1**: 93%\n",
    "\n",
    "   The recall for **Class 1** (approved loans) is quite high at **93%**, meaning the model is good at identifying most approved loans. However, the recall for **Class 0** (not approved loans) is much lower at **51%**, indicating that the model struggles to correctly identify non-approved loans and tends to classify many of them as approved.\n",
    "\n",
    "3. **F1-Score**:\n",
    "   - **Class 0**: 62%\n",
    "   - **Class 1**: 85%\n",
    "\n",
    "   The F1-score balances precision and recall. The **F1-score for Class 1** is higher (**85%**), showing that the model performs well in identifying approved loans. However, the **F1-score for Class 0** is lower at **62%**, highlighting the model’s weaker performance when it comes to identifying non-approved loans.\n",
    "\n",
    "4. **Confusion Matrix**:\n",
    "   - **True Positives (TP)**: 112 (Correctly classified as approved)\n",
    "   - **True Negatives (TN)**: 33 (Correctly classified as not approved)\n",
    "   - **False Positives (FP)**: 32 (Incorrectly classified as approved when they are not)\n",
    "   - **False Negatives (FN)**: 8 (Incorrectly classified as not approved when they should be approved)\n",
    "\n",
    "   The confusion matrix shows that while the model correctly classifies most approved loans (112), it misclassifies a significant number of non-approved loans (32) as approved. This imbalance between true negatives and false positives indicates a bias towards predicting loans as approved.\n",
    "\n",
    "### Interpretation:\n",
    "- **The model performs well at predicting loan approvals (Class 1) but struggles to correctly identify non-approved loans (Class 0).**\n",
    "- **The dataset likely has a class imbalance, with more approved loans than non-approved loans, which is affecting the recall for Class 0.**\n",
    "\n",
    "### Future Recommendations:\n",
    "1. **Handle Class Imbalance More Effectively**: Further tweak the `SMOTE` sampling strategy or explore other resampling techniques to balance the classes more effectively.\n",
    "2. **Adjust Class Weights**: Modify the `class_weight` parameter in the Random Forest classifier to give more emphasis to Class 0 to improve its recall.\n",
    "3. **Use Additional Evaluation Metrics**: Consider metrics like **ROC-AUC** or **G-Mean** that are better suited for imbalanced datasets to better evaluate the model’s performance across both classes.\n",
    "\n",
    "### Conclusion:\n",
    "For now, the model achieves reasonable accuracy, but adjustments to address class imbalance are recommended to improve the recall for non-approved loans."
   ]
  },
  {
   "cell_type": "markdown",
   "id": "d7dbd67b-8a29-4d01-96ca-a1d7235a0635",
   "metadata": {},
   "source": [
    "## Step 8: Save the Model Using Pickle"
   ]
  },
  {
   "cell_type": "code",
   "execution_count": 10,
   "id": "88ef2c97-afe0-4631-b7d2-a3c9d2b5d798",
   "metadata": {},
   "outputs": [
    {
     "name": "stdout",
     "output_type": "stream",
     "text": [
      "Model saved successfully as 'loan_approval_model.pkl'\n"
     ]
    }
   ],
   "source": [
    "# Save the model using pickle\n",
    "with open(\"loan_approval_model.pkl\", \"wb\") as file:\n",
    "    pickle.dump(best_rf, file)\n",
    "\n",
    "print(\"Model saved successfully as 'loan_approval_model.pkl'\")"
   ]
  },
  {
   "cell_type": "markdown",
   "id": "021f64ee-2840-4fa6-9c5d-f7d87f67679b",
   "metadata": {},
   "source": [
    "# Loan Approval Model pkl Created"
   ]
  }
 ],
 "metadata": {
  "kernelspec": {
   "display_name": "Python 3 (ipykernel)",
   "language": "python",
   "name": "python3"
  },
  "language_info": {
   "codemirror_mode": {
    "name": "ipython",
    "version": 3
   },
   "file_extension": ".py",
   "mimetype": "text/x-python",
   "name": "python",
   "nbconvert_exporter": "python",
   "pygments_lexer": "ipython3",
   "version": "3.12.6"
  }
 },
 "nbformat": 4,
 "nbformat_minor": 5
}
